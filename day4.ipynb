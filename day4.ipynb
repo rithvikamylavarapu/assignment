{
  "nbformat": 4,
  "nbformat_minor": 0,
  "metadata": {
    "colab": {
      "provenance": [],
      "authorship_tag": "ABX9TyMtEcr9kYFbrLuzs35WzSEO",
      "include_colab_link": true
    },
    "kernelspec": {
      "name": "python3",
      "display_name": "Python 3"
    },
    "language_info": {
      "name": "python"
    }
  },
  "cells": [
    {
      "cell_type": "markdown",
      "metadata": {
        "id": "view-in-github",
        "colab_type": "text"
      },
      "source": [
        "<a href=\"https://colab.research.google.com/github/rithvikamylavarapu/assignment/blob/main/day4.ipynb\" target=\"_parent\"><img src=\"https://colab.research.google.com/assets/colab-badge.svg\" alt=\"Open In Colab\"/></a>"
      ]
    },
    {
      "cell_type": "code",
      "execution_count": 2,
      "metadata": {
        "colab": {
          "base_uri": "https://localhost:8080/"
        },
        "id": "KT3C14gWgoMN",
        "outputId": "a5a544d2-b36a-4446-8379-ff5bf2d507dd"
      },
      "outputs": [
        {
          "output_type": "stream",
          "name": "stdout",
          "text": [
            "Enter a positive integer: 15\n",
            "The sum of all even numbers between 1 and 15 is: 56\n"
          ]
        }
      ],
      "source": [
        "# Input: Positive integer n\n",
        "n = int(input(\"Enter a positive integer: \"))\n",
        "\n",
        "# Calculate the sum of even numbers\n",
        "sum_even = sum(i for i in range(2, n + 1, 2))\n",
        "\n",
        "# Output the result\n",
        "print(f\"The sum of all even numbers between 1 and {n} is: {sum_even}\")\n"
      ]
    },
    {
      "cell_type": "code",
      "source": [],
      "metadata": {
        "id": "L3vZRaS3gpH-"
      },
      "execution_count": null,
      "outputs": []
    }
  ]
}