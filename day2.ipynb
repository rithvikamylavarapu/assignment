{
  "nbformat": 4,
  "nbformat_minor": 0,
  "metadata": {
    "colab": {
      "provenance": [],
      "authorship_tag": "ABX9TyNJpVyNMUTy3wpGg608bl3k",
      "include_colab_link": true
    },
    "kernelspec": {
      "name": "python3",
      "display_name": "Python 3"
    },
    "language_info": {
      "name": "python"
    }
  },
  "cells": [
    {
      "cell_type": "markdown",
      "metadata": {
        "id": "view-in-github",
        "colab_type": "text"
      },
      "source": [
        "<a href=\"https://colab.research.google.com/github/rithvikamylavarapu/assignment/blob/main/day2.ipynb\" target=\"_parent\"><img src=\"https://colab.research.google.com/assets/colab-badge.svg\" alt=\"Open In Colab\"/></a>"
      ]
    },
    {
      "cell_type": "code",
      "execution_count": 1,
      "metadata": {
        "colab": {
          "base_uri": "https://localhost:8080/"
        },
        "id": "qYZuqKO1fW5F",
        "outputId": "95de0a40-7718-4977-d0a8-ed3a53bd1515"
      },
      "outputs": [
        {
          "output_type": "stream",
          "name": "stdout",
          "text": [
            "List:\n",
            "10\n",
            "30\n",
            "50\n",
            "\n",
            "Tuple:\n",
            "banana\n",
            "date\n",
            "date\n",
            "\n",
            "Dictionary:\n",
            "1\n",
            "3\n",
            "5\n",
            "Key not found\n"
          ]
        }
      ],
      "source": [
        "# Creating a List, Tuple, and Dictionary\n",
        "my_list = [10, 20, 30, 40, 50]  # List\n",
        "my_tuple = ('apple', 'banana', 'cherry', 'date', 'elderberry')  # Tuple\n",
        "my_dict = {'a': 1, 'b': 2, 'c': 3, 'd': 4, 'e': 5}  # Dictionary\n",
        "\n",
        "# Accessing elements from the List\n",
        "print(\"List:\")\n",
        "print(my_list[0])  # First element (10)\n",
        "print(my_list[2])  # Third element (30)\n",
        "print(my_list[-1])  # Last element (50)\n",
        "\n",
        "# Accessing elements from the Tuple\n",
        "print(\"\\nTuple:\")\n",
        "print(my_tuple[1])  # Second element ('banana')\n",
        "print(my_tuple[3])  # Fourth element ('date')\n",
        "print(my_tuple[-2])  # Second-to-last element ('date')\n",
        "\n",
        "# Accessing elements from the Dictionary\n",
        "print(\"\\nDictionary:\")\n",
        "print(my_dict['a'])  # Value for key 'a' (1)\n",
        "print(my_dict['c'])  # Value for key 'c' (3)\n",
        "print(my_dict.get('e'))  # Value for key 'e' (5)\n",
        "print(my_dict.get('z', 'Key not found'))  # If key doesn't exist\n"
      ]
    },
    {
      "cell_type": "code",
      "source": [],
      "metadata": {
        "id": "en4WUIIXfYVa"
      },
      "execution_count": null,
      "outputs": []
    }
  ]
}