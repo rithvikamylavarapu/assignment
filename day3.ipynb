{
  "nbformat": 4,
  "nbformat_minor": 0,
  "metadata": {
    "colab": {
      "provenance": [],
      "authorship_tag": "ABX9TyNEMt7ntGLLn79ciKNP6Zce",
      "include_colab_link": true
    },
    "kernelspec": {
      "name": "python3",
      "display_name": "Python 3"
    },
    "language_info": {
      "name": "python"
    }
  },
  "cells": [
    {
      "cell_type": "markdown",
      "metadata": {
        "id": "view-in-github",
        "colab_type": "text"
      },
      "source": [
        "<a href=\"https://colab.research.google.com/github/rithvikamylavarapu/assignment/blob/main/day3.ipynb\" target=\"_parent\"><img src=\"https://colab.research.google.com/assets/colab-badge.svg\" alt=\"Open In Colab\"/></a>"
      ]
    },
    {
      "cell_type": "code",
      "execution_count": 1,
      "metadata": {
        "colab": {
          "base_uri": "https://localhost:8080/"
        },
        "id": "KT3C14gWgoMN",
        "outputId": "f3a53943-6c9b-4fe4-e53d-ef778568d293"
      },
      "outputs": [
        {
          "output_type": "stream",
          "name": "stdout",
          "text": [
            "Enter marks for Subject 1: 95\n",
            "Enter marks for Subject 2: 60\n",
            "Enter marks for Subject 3: 80\n",
            "Average Marks: 78.33\n",
            "Grade: C\n"
          ]
        }
      ],
      "source": [
        "# Input: Marks in three subjects\n",
        "subject1 = float(input(\"Enter marks for Subject 1: \"))\n",
        "subject2 = float(input(\"Enter marks for Subject 2: \"))\n",
        "subject3 = float(input(\"Enter marks for Subject 3: \"))\n",
        "\n",
        "# Calculate average\n",
        "average = (subject1 + subject2 + subject3) / 3\n",
        "\n",
        "# Determine the grade\n",
        "if average >= 90:\n",
        "    grade = \"A\"\n",
        "elif 80 <= average <= 89:\n",
        "    grade = \"B\"\n",
        "elif 70 <= average <= 79:\n",
        "    grade = \"C\"\n",
        "else:\n",
        "    grade = \"Fail\"\n",
        "\n",
        "# Output the grade\n",
        "print(f\"Average Marks: {average:.2f}\")\n",
        "print(f\"Grade: {grade}\")\n"
      ]
    },
    {
      "cell_type": "code",
      "source": [],
      "metadata": {
        "id": "L3vZRaS3gpH-"
      },
      "execution_count": null,
      "outputs": []
    }
  ]
}